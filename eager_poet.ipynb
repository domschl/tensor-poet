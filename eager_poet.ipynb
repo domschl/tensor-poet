{
  "nbformat": 4,
  "nbformat_minor": 0,
  "metadata": {
    "@webio": {
      "lastCommId": "ec3a4d2d-8063-4bfd-a4a2-ee070d3272f7",
      "lastKernelId": "1acc2b74-f51e-477b-910a-a5519dad53b9"
    },
    "accelerator": "TPU",
    "colab": {
      "name": "Copy of eager_poet.ipynb",
      "provenance": [],
      "collapsed_sections": [],
      "machine_shape": "hm",
      "include_colab_link": true
    },
    "kernelspec": {
      "name": "python3",
      "display_name": "Python 3"
    },
    "language_info": {
      "codemirror_mode": {
        "name": "ipython",
        "version": 3
      },
      "file_extension": ".py",
      "mimetype": "text/x-python",
      "name": "python",
      "nbconvert_exporter": "python",
      "pygments_lexer": "ipython3",
      "version": "3.8.1"
    }
  },
  "cells": [
    {
      "cell_type": "markdown",
      "metadata": {
        "id": "view-in-github",
        "colab_type": "text"
      },
      "source": [
        "<a href=\"https://colab.research.google.com/github/domschl/tensor-poet/blob/master/eager_poet.ipynb\" target=\"_parent\"><img src=\"https://colab.research.google.com/assets/colab-badge.svg\" alt=\"Open In Colab\"/></a>"
      ]
    },
    {
      "cell_type": "markdown",
      "metadata": {
        "colab_type": "text",
        "id": "fEXNOWhCEAPk"
      },
      "source": [
        "# Eager Tensor Poet (Tensorflow 2.0)"
      ]
    },
    {
      "cell_type": "markdown",
      "metadata": {
        "colab_type": "text",
        "id": "wM8iyPzWuc8G"
      },
      "source": [
        "### Only execute next block, if you want to test with different TF runtime.\n",
        "\n",
        "Remember to restart runtime after installing new software."
      ]
    },
    {
      "cell_type": "code",
      "metadata": {
        "colab_type": "code",
        "id": "b7hgtQU725ap",
        "colab": {}
      },
      "source": [
        "# %pip install -U tensorflow-gpu tensorflow-addons tensorflow-federated tensorboard # tf-nightly-gpu  # Currently not useful."
      ],
      "execution_count": 0,
      "outputs": []
    },
    {
      "cell_type": "markdown",
      "metadata": {
        "colab_type": "text",
        "id": "laU7LRAguts6"
      },
      "source": [
        "### Select TF version (in colab)\n",
        "\n",
        "This should be the default starting point for working with the standard environment"
      ]
    },
    {
      "cell_type": "code",
      "metadata": {
        "colab_type": "code",
        "id": "jtpy59Yq-Qfz",
        "outputId": "024804a3-15c6-4bce-e88a-bbedf867e0cd",
        "colab": {
          "base_uri": "https://localhost:8080/",
          "height": 35
        }
      },
      "source": [
        "## Import TensorFlow\n",
        "## from __future__ import absolute_import, division, print_function, unicode_literals\n",
        "try:\n",
        "    ## %tensorflow_version only exists in Colab.\n",
        "    %tensorflow_version 2.x\n",
        "except Exception:\n",
        "    ## Non colab people need to make sure that tf 2 is installed.\n",
        "    pass\n",
        "import tensorflow as tf"
      ],
      "execution_count": 1,
      "outputs": [
        {
          "output_type": "stream",
          "text": [
            "TensorFlow 2.x selected.\n"
          ],
          "name": "stdout"
        }
      ]
    },
    {
      "cell_type": "markdown",
      "metadata": {
        "colab_type": "text",
        "id": "VmWbteSFQtfq"
      },
      "source": [
        "## Preliminary\n",
        "\n",
        "**THIS IS WORK IN PROGRESS**\n",
        "\n",
        "A tensorflow deep LSTM model for text generation\n",
        "\n",
        "This code can use either CPU, **GPU** or **TPU** when running on Google Colab.\n",
        "\n",
        "Select the corresponding runtime (menu: **`Runtime / Change runtime type`**)"
      ]
    },
    {
      "cell_type": "code",
      "metadata": {
        "colab_type": "code",
        "id": "rum30R2JzeEl",
        "colab": {}
      },
      "source": [
        "%load_ext tensorboard"
      ],
      "execution_count": 0,
      "outputs": []
    },
    {
      "cell_type": "code",
      "metadata": {
        "colab_type": "code",
        "id": "EgLLjG4yQtft",
        "colab": {}
      },
      "source": [
        "import numpy as np\n",
        "import os\n",
        "import sys\n",
        "import json\n",
        "import time\n",
        "import datetime\n",
        "import random\n",
        "import tensorflow as tf\n",
        "\n",
        "try:\n",
        "    from urllib.request import urlopen  # Py3\n",
        "except:\n",
        "    print(\"This notebook requires Python 3.\")\n",
        "try:\n",
        "    import pathlib\n",
        "except:\n",
        "    print(\"At least python 3.5 is needed.\")\n",
        "    \n",
        "try: # Colab instance?\n",
        "    from google.colab import drive\n",
        "except: # Not? ignore.\n",
        "    pass\n",
        "\n",
        "from IPython.core.display import display, HTML"
      ],
      "execution_count": 0,
      "outputs": []
    },
    {
      "cell_type": "markdown",
      "metadata": {
        "colab_type": "text",
        "id": "sfZg31sMEAP1"
      },
      "source": [
        "## 0. Check system\n",
        "\n",
        "### Tensorflow api version check\n"
      ]
    },
    {
      "cell_type": "code",
      "metadata": {
        "colab_type": "code",
        "id": "llPw84PkEAP2",
        "outputId": "30e8a0fb-c2e7-4a82-d980-bd42e0ffeddd",
        "colab": {
          "base_uri": "https://localhost:8080/",
          "height": 35
        }
      },
      "source": [
        "try:\n",
        "    if 'api.v2' in tf.version.__name__:\n",
        "        print(f\"Tensorflow api v2 active: {tf.__version__}\")\n",
        "    else:\n",
        "        print(\"Tensorflow api v2 not found. This will not work.\")\n",
        "except:\n",
        "    print(\"Failed to check for Tensorflow api v2. This will not work.\")"
      ],
      "execution_count": 4,
      "outputs": [
        {
          "output_type": "stream",
          "text": [
            "Tensorflow api v2 active: 2.1.0\n"
          ],
          "name": "stdout"
        }
      ]
    },
    {
      "cell_type": "markdown",
      "metadata": {
        "colab_type": "text",
        "id": "P08FdKKnEAP6"
      },
      "source": [
        "### GPU/TPU check"
      ]
    },
    {
      "cell_type": "markdown",
      "metadata": {
        "id": "lJOrQMUxO5WE",
        "colab_type": "text"
      },
      "source": [
        "This notebook can either run on a local jupyter server, or on google cloud.\n",
        "If a GPU/TPU is available, it will be used for training.\n",
        "\n",
        "By default snapshots of the trained net are stored locally for jupyter instances, and on user's google drive for Google Colab instances. The snapshots allow the restart of training or inference at any time, e.g. after the Colab session was terminated.\n",
        "\n",
        "Similarily, the text corpora that are used for training, can be cached on drive or locally."
      ]
    },
    {
      "cell_type": "code",
      "metadata": {
        "id": "txvC_JXHO5WF",
        "colab_type": "code",
        "colab": {}
      },
      "source": [
        "# Define where snapshots of training data are stored:\n",
        "colab_google_drive_snapshots=True\n",
        "\n",
        "# Define if training data (the texts downloaded from internet) are cached:\n",
        "colab_google_drive_data_cache=True  # In colab mode cache to google drive\n",
        "local_jupyter_data_cache=True       # In local jupyter mode cache to local path\n",
        "\n",
        "is_colab_notebook = 'google.colab' in sys.modules"
      ],
      "execution_count": 0,
      "outputs": []
    },
    {
      "cell_type": "code",
      "metadata": {
        "colab_type": "code",
        "id": "gjWwUUfuEAP7",
        "outputId": "e4384a88-6803-42c8-c522-9f1eb12b3abb",
        "colab": {
          "base_uri": "https://localhost:8080/",
          "height": 124
        }
      },
      "source": [
        "from tensorflow.python.client import device_lib\n",
        "\n",
        "use_tpu = False\n",
        "use_gpu = False\n",
        "use_eager = False  # Really no point.\n",
        "\n",
        "try:\n",
        "    TPU_ADDRESS = 'grpc://' + os.environ['COLAB_TPU_ADDR']\n",
        "    use_tpu = True\n",
        "    tpu_is_init = False\n",
        "    tf.config.experimental_connect_to_host(TPU_ADDRESS)\n",
        "    print(\"TPU available at {}\".format(TPU_ADDRESS))\n",
        "except:\n",
        "    print(\"No TPU available\")\n",
        "\n",
        "for hw in [\"CPU\", \"GPU\", \"TPU\"]:\n",
        "    hwlist=tf.config.experimental.list_logical_devices(hw)\n",
        "    print(\"{} -> {}\".format(hw,hwlist))\n",
        "\n",
        "\n",
        "if use_tpu is False:\n",
        "    def get_available_devs_of_type(type):\n",
        "        local_device_protos = device_lib.list_local_devices()\n",
        "        return [x.name for x in local_device_protos if type in x.name]\n",
        "\n",
        "    def get_dev_desc():\n",
        "        local_device_protos = device_lib.list_local_devices()\n",
        "        return [(x.name, x.physical_device_desc) for x in local_device_protos]\n",
        "\n",
        "    def get_available_gpus():\n",
        "        return get_available_devs_of_type('GPU')\n",
        "\n",
        "    dl = get_available_gpus()\n",
        "    if len(dl)==0:\n",
        "        print(\"WARNING: You have neither TPU nor GPU, this is going to be very slow!\")\n",
        "        if is_colab_notebook is True:\n",
        "            print(\"         Hint: In Colab Runtime / Set runtime type, set runtime type to GPU or TPU.\")\n",
        "        print(get_available_devs_of_type(''))\n",
        "    else:\n",
        "        use_gpu = True\n",
        "        print(f\"GPUs: {dl}\")\n",
        "        print(get_dev_desc())\n",
        "else:\n",
        "    use_eager = False  # Eager mode cannot be used with TPUs.\n",
        "    print(\"DISABLING eager execution because TPUs do not support dynamic execution.\")\n",
        "\n",
        "if use_eager is False:\n",
        "   tf.compat.v1.disable_eager_execution()\n"
      ],
      "execution_count": 6,
      "outputs": [
        {
          "output_type": "stream",
          "text": [
            "TPU available at grpc://10.94.220.42:8470\n",
            "CPU -> [LogicalDevice(name='/device:CPU:0', device_type='CPU'), LogicalDevice(name='/job:worker/replica:0/task:0/device:CPU:0', device_type='CPU')]\n",
            "GPU -> []\n",
            "TPU -> [LogicalDevice(name='/job:worker/replica:0/task:0/device:TPU:7', device_type='TPU'), LogicalDevice(name='/job:worker/replica:0/task:0/device:TPU:6', device_type='TPU'), LogicalDevice(name='/job:worker/replica:0/task:0/device:TPU:5', device_type='TPU'), LogicalDevice(name='/job:worker/replica:0/task:0/device:TPU:4', device_type='TPU'), LogicalDevice(name='/job:worker/replica:0/task:0/device:TPU:0', device_type='TPU'), LogicalDevice(name='/job:worker/replica:0/task:0/device:TPU:1', device_type='TPU'), LogicalDevice(name='/job:worker/replica:0/task:0/device:TPU:2', device_type='TPU'), LogicalDevice(name='/job:worker/replica:0/task:0/device:TPU:3', device_type='TPU')]\n",
            "DISABLING eager execution because TPUs do not support dynamic execution.\n"
          ],
          "name": "stdout"
        }
      ]
    },
    {
      "cell_type": "code",
      "metadata": {
        "id": "I1nN1tbCO5WN",
        "colab_type": "code",
        "colab": {}
      },
      "source": [
        "if is_colab_notebook:\n",
        "    if colab_google_drive_snapshots:\n",
        "        mountpoint='/content/drive'\n",
        "        root_path='/content/drive/My Drive'\n",
        "        if not os.path.exists(root_path):\n",
        "            drive.mount(mountpoint)\n",
        "        if not os.path.exists(root_path):\n",
        "            print(\"Something went wrong with Google Drive access. Cannot save snapshots to GD.\")\n",
        "            colab_google_drive_snapshots=False\n",
        "    else:\n",
        "        print(\"Since google drive snapshots are not active, training data will be lost as soon as the Colab session terminates!\")\n",
        "        print(\"Set `colab_google_drive_snapshots` to `True` to make training data persistent.\")\n",
        "else:\n",
        "    root_path='.'"
      ],
      "execution_count": 0,
      "outputs": []
    },
    {
      "cell_type": "markdown",
      "metadata": {
        "colab_type": "text",
        "id": "AIkcYcEuQtfx"
      },
      "source": [
        "##  1. Text library\n",
        "\n",
        "`TextLibrary` class: text library for training, encoding, batch generation,\n",
        "and formatted source display. It read some books from Project Gutenberg\n",
        "and supports creation of training batches. The output functions support\n",
        "highlighting to allow to compare generated texts with the actual sources\n",
        "to help to identify identical (memorized) parts."
      ]
    },
    {
      "cell_type": "code",
      "metadata": {
        "id": "HjkelBcNO5WV",
        "colab_type": "code",
        "colab": {}
      },
      "source": [
        "use_dark_mode=False  # Set to false for white background"
      ],
      "execution_count": 0,
      "outputs": []
    },
    {
      "cell_type": "code",
      "metadata": {
        "colab_type": "code",
        "id": "-Pz4xVgaQtfy",
        "colab": {}
      },
      "source": [
        "class TextLibrary:\n",
        "    def __init__(self, descriptors, text_data_cache_directory=None, max=100000000):\n",
        "        self.descriptors = descriptors\n",
        "        self.data = ''\n",
        "        self.cache_dir=text_data_cache_directory\n",
        "        self.files = []\n",
        "        self.c2i = {}\n",
        "        self.i2c = {}\n",
        "        self.total_size=0\n",
        "        index = 1\n",
        "        for descriptor, author, title in descriptors:\n",
        "            fd = {}\n",
        "            cache_name=self.get_cache_name(author, title)\n",
        "            if os.path.exists(cache_name):\n",
        "                is_cached=True\n",
        "            else:\n",
        "                is_cached=False\n",
        "            valid=False\n",
        "            if descriptor[:4] == 'http' and is_cached is False:\n",
        "                try:\n",
        "                    print(f\"Downloading {cache_name}\")\n",
        "                    dat = urlopen(descriptor).read().decode('utf-8')\n",
        "                    if dat[0]=='\\ufeff':  # Ignore BOM\n",
        "                        dat=dat[1:]\n",
        "                    dat=dat.replace('\\r', '')  # get rid of pesky LFs \n",
        "                    self.data += dat\n",
        "                    self.total_size += len(dat)\n",
        "                    fd[\"title\"] = title\n",
        "                    fd[\"author\"] = author\n",
        "                    fd[\"data\"] = dat\n",
        "                    fd[\"index\"] = index\n",
        "                    index += 1\n",
        "                    valid=True\n",
        "                    self.files.append(fd)\n",
        "                except Exception as e:\n",
        "                    print(f\"Can't download {descriptor}: {e}\")\n",
        "            else:\n",
        "                fd[\"title\"] = title\n",
        "                fd[\"author\"] = author\n",
        "                try:\n",
        "                    if is_cached is True:\n",
        "                        print(f\"Reading {cache_name} from cache\")\n",
        "                        f = open(cache_name)\n",
        "                    else:    \n",
        "                        f = open(descriptor)\n",
        "                    dat = f.read(max)\n",
        "                    self.data += dat\n",
        "                    self.total_size += len(dat)\n",
        "                    fd[\"data\"] = dat\n",
        "                    fd[\"index\"] = index\n",
        "                    index += 1\n",
        "                    self.files.append(fd)\n",
        "                    f.close()\n",
        "                    valid=True\n",
        "                except Exception as e:\n",
        "                    print(f\"ERROR: Cannot read: {filename}: {e}\")\n",
        "            if valid is True and is_cached is False and self.cache_dir is not None:\n",
        "                try:\n",
        "                    print(f\"Caching {cache_name}\")\n",
        "                    f = open(cache_name, 'w')\n",
        "                    f.write(dat)\n",
        "                    f.close()\n",
        "                except Exception as e:\n",
        "                    print(f\"ERROR: failed to save cache {cache_name}: {e}\")\n",
        "                \n",
        "        ind = 0\n",
        "        for c in self.data:  # sets are not deterministic\n",
        "            if c not in self.c2i:\n",
        "                self.c2i[c] = ind\n",
        "                self.i2c[ind] = c\n",
        "                ind += 1\n",
        "        self.ptr = 0\n",
        "\n",
        "    def get_cache_name(self, author, title):\n",
        "        if self.cache_dir is None:\n",
        "            return None\n",
        "        cname=f\"{author} - {title}.txt\"\n",
        "        cache_filepath=os.path.join(self.cache_dir , cname)\n",
        "        return cache_filepath\n",
        "        \n",
        "    def display_colored_html(self, textlist, dark_mode=False, pre='', post=''):\n",
        "        bgcolorsWht = ['#d4e6e1', '#d8daef', '#ebdef0', '#eadbd8', '#e2d7d5', '#edebd0',\n",
        "                    '#ecf3cf', '#d4efdf', '#d0ece7', '#d6eaf8', '#d4e6f1', '#d6dbdf',\n",
        "                    '#f6ddcc', '#fae5d3', '#fdebd0', '#e5e8e8', '#eaeded', '#A9CCE3']\n",
        "        bgcolorsDrk = ['#342621','#483a2f', '#3b4e20', '#2a3b48', '#324745', '#3d3b30',\n",
        "                    '#3c235f', '#443f4f', '#403c37', '#463a28', '#443621', '#364b5f',\n",
        "                    '#264d4c', '#2a3553', '#3d2b40', '#354838', '#3a3d4d', '#594C23']\n",
        "        if dark_mode is False:\n",
        "            bgcolors=bgcolorsWht\n",
        "        else:\n",
        "            bgcolors=bgcolorsDrk\n",
        "        out = ''\n",
        "        for txt, ind in textlist:\n",
        "            txt = txt.replace('\\n', '<br>')\n",
        "            if ind == 0:\n",
        "                out += txt\n",
        "            else:\n",
        "                out += \"<span style=\\\"background-color:\"+bgcolors[ind % 16]+\";\\\">\" + \\\n",
        "                       txt + \"</span>\"+\"<sup>[\" + str(ind) + \"]</sup>\"\n",
        "        display(HTML(pre+out+post))\n",
        "\n",
        "    def source_highlight(self, txt, minQuoteSize=10, dark_mode=False):\n",
        "        tx = txt\n",
        "        out = []\n",
        "        qts = []\n",
        "        txsrc = [(\"Sources: \", 0)]\n",
        "        sc = False\n",
        "        noquote = ''\n",
        "        while len(tx) > 0:  # search all library files for quote 'txt'\n",
        "            mxQ = 0\n",
        "            mxI = 0\n",
        "            mxN = ''\n",
        "            found = False\n",
        "            for f in self.files:  # find longest quote in all texts\n",
        "                p = minQuoteSize\n",
        "                if p <= len(tx) and tx[:p] in f[\"data\"]:\n",
        "                    p = minQuoteSize + 1\n",
        "                    while p <= len(tx) and tx[:p] in f[\"data\"]:\n",
        "                        p += 1\n",
        "                    if p-1 > mxQ:\n",
        "                        mxQ = p-1\n",
        "                        mxI = f[\"index\"]\n",
        "                        mxN = f\"{f['author']}: {f['title']}\"\n",
        "                        found = True\n",
        "            if found:  # save longest quote for colorizing\n",
        "                if len(noquote) > 0:\n",
        "                    out.append((noquote, 0))\n",
        "                    noquote = ''\n",
        "                out.append((tx[:mxQ], mxI))\n",
        "                tx = tx[mxQ:]\n",
        "                if mxI not in qts:  # create a new reference, if first occurence\n",
        "                    qts.append(mxI)\n",
        "                    if sc:\n",
        "                        txsrc.append((\", \", 0))\n",
        "                    sc = True\n",
        "                    txsrc.append((mxN, mxI))\n",
        "            else:\n",
        "                noquote += tx[0]\n",
        "                tx = tx[1:]\n",
        "        if len(noquote) > 0:\n",
        "            out.append((noquote, 0))\n",
        "            noquote = ''\n",
        "        self.display_colored_html(out, dark_mode=dark_mode)\n",
        "        if len(qts) > 0:  # print references, if there is at least one source\n",
        "            self.display_colored_html(txsrc, dark_mode=dark_mode, pre=\"<small><p style=\\\"text-align:right;\\\">\",\n",
        "                                     post=\"</p></small>\")\n",
        "\n",
        "    def get_slice(self, length):\n",
        "        if (self.ptr + length >= len(self.data)):\n",
        "            self.ptr = 0\n",
        "        if self.ptr == 0:\n",
        "            rst = True\n",
        "        else:\n",
        "            rst = False\n",
        "        sl = self.data[self.ptr:self.ptr+length]\n",
        "        self.ptr += length\n",
        "        return sl, rst\n",
        "\n",
        "    def decode(self, ar):\n",
        "        return ''.join([self.i2c[ic] for ic in ar])\n",
        "\n",
        "    def get_random_slice(self, length):\n",
        "        p = random.randrange(0, len(self.data)-length)\n",
        "        sl = self.data[p:p+length]\n",
        "        return sl\n",
        "\n",
        "    def get_slice_array(self, length):\n",
        "        ar = np.array([c for c in self.get_slice(length)[0]])\n",
        "        return ar\n",
        "\n",
        "    def get_encoded_slice(self, length):\n",
        "        s, rst = self.get_slice(length)\n",
        "        X = [self.c2i[c] for c in s]\n",
        "        return X\n",
        "        \n",
        "    def get_encoded_slice_array(self, length):\n",
        "        return np.array(self.get_encoded_slice(length))\n",
        "\n",
        "    def get_sample(self, length):\n",
        "        s, rst = self.get_slice(length+1)\n",
        "        X = [self.c2i[c] for c in s[:-1]]\n",
        "        y = [self.c2i[c] for c in s[1:]]\n",
        "        return (X, y, rst)\n",
        "\n",
        "    def get_random_sample(self, length):\n",
        "        s = self.get_random_slice(length+1)\n",
        "        X = [self.c2i[c] for c in s[:-1]]\n",
        "        y = [self.c2i[c] for c in s[1:]]\n",
        "        return (X, y)\n",
        "\n",
        "    def get_sample_batch(self, batch_size, length):\n",
        "        smpX = []\n",
        "        smpy = []\n",
        "        for i in range(batch_size):\n",
        "            Xi, yi, rst = self.get_sample(length)\n",
        "            smpX.append(Xi)\n",
        "            smpy.append(yi)\n",
        "        return smpX, smpy, rst\n",
        "\n",
        "    def get_random_sample_batch(self, batch_size, length):\n",
        "        for i in range(batch_size):\n",
        "            Xi, yi = self.get_random_sample(length)\n",
        "            # smpX.append(Xi)\n",
        "            # smpy.append(yi)\n",
        "            if i==0:\n",
        "                smpX=np.array(Xi, dtype=np.float32)\n",
        "                smpy=np.array(yi, dtype=np.float32)\n",
        "            else:\n",
        "                smpX = np.vstack((smpX, np.array(Xi, dtype=np.float32)))\n",
        "                smpy = np.vstack((smpy, np.array(yi, dtype=np.float32)))\n",
        "                # smpy = np.append(smpy, np.array(yi, dtype=np.float32), axis=0)\n",
        "        return np.array(smpX), np.array(smpy)\n",
        "    \n",
        "    def get_random_onehot_sample_batch(self, batch_size, length):\n",
        "        X, y = self.get_random_sample_batch(batch_size, length)\n",
        "        # xoh = one_hot(X,len(self.i2c))\n",
        "        xoh = tf.keras.backend.one_hot(X, len(self.i2c))\n",
        "        ykc = tf.keras.backend.constant(y)\n",
        "        return xoh, ykc"
      ],
      "execution_count": 0,
      "outputs": []
    },
    {
      "cell_type": "markdown",
      "metadata": {
        "colab_type": "text",
        "id": "ucJsgqNgEAQC"
      },
      "source": [
        "### Data sources\n",
        "\n",
        "Data sources can either be files from local filesystem, or for colab notebooks from google drive, or http(s) links.\n",
        "\n",
        "The name given will be use as directory name for both snapshots and model data caches.\n",
        "\n",
        "Each entry in the lib array contains of:\n",
        "\n",
        "1. a local filename or https(s) link,\n",
        "2. an Author's name\n",
        "3. a title"
      ]
    },
    {
      "cell_type": "code",
      "metadata": {
        "colab_type": "code",
        "id": "tZDo-bIPEAQD",
        "colab": {}
      },
      "source": [
        "libdesc = {\n",
        "    \"name\": \"Women-Writers\",\n",
        "    \"description\": \"A collection of works of Woolf, Austen and Brontë\",\n",
        "    \"lib\": [\n",
        "        # ('data/tiny-shakespeare.txt', 'William Shakespeare', 'Some parts'),   # local file example\n",
        "        # ('http://www.mirrorservice.org/sites/ftp.ibiblio.org/pub/docs/books/gutenberg/1/0/100/100-0.txt', 'Shakespeare', 'Collected Works'),\n",
        "        ('http://www.mirrorservice.org/sites/ftp.ibiblio.org/pub/docs/books/gutenberg/3/7/4/3/37431/37431.txt', 'Jane Austen', 'Pride and Prejudice'),\n",
        "        ('http://www.mirrorservice.org/sites/ftp.ibiblio.org/pub/docs/books/gutenberg/7/6/768/768.txt', 'Emily Brontë', 'Wuthering Heights'),         \n",
        "        ('http://www.mirrorservice.org/sites/ftp.ibiblio.org/pub/docs/books/gutenberg/1/4/144/144.txt', 'Virginia Wolf', 'Voyage out'),\n",
        "        ('http://www.mirrorservice.org/sites/ftp.ibiblio.org/pub/docs/books/gutenberg/1/5/158/158.txt', 'Jane Austen', 'Emma')\n",
        "    ]\n",
        "}"
      ],
      "execution_count": 0,
      "outputs": []
    },
    {
      "cell_type": "code",
      "metadata": {
        "id": "mfjcZdU9O5Wi",
        "colab_type": "code",
        "colab": {}
      },
      "source": [
        "if is_colab_notebook:\n",
        "    if colab_google_drive_data_cache is True:\n",
        "        data_cache_path=os.path.join(root_path,f\"Colab Notebooks/{libdesc['name']}/Data\")\n",
        "    else:\n",
        "        data_cache_path=None\n",
        "else:\n",
        "    if local_jupyter_data_cache is True:\n",
        "        data_cache_path=os.path.join(root_path,f\"{libdesc['name']}/Data\")\n",
        "    else:\n",
        "        data_cache_path=None\n",
        "\n",
        "if data_cache_path is not None:\n",
        "    pathlib.Path(data_cache_path).mkdir(parents=True, exist_ok=True)\n",
        "    if not os.path.exists(data_cache_path):\n",
        "        print(\"ERROR, the cache directory does not exist. This will fail.\")\n",
        "    else:\n",
        "        with open(os.path.join(data_cache_path,'libdesc.json'),'w') as f:\n",
        "            json.dump(libdesc,f,indent=4)"
      ],
      "execution_count": 0,
      "outputs": []
    },
    {
      "cell_type": "code",
      "metadata": {
        "id": "rUK3G2KhO5Wl",
        "colab_type": "code",
        "outputId": "d4d0f7e4-2b9d-421a-dbb0-a72bfa267062",
        "colab": {
          "base_uri": "https://localhost:8080/",
          "height": 104
        }
      },
      "source": [
        "textlib = TextLibrary(libdesc[\"lib\"], text_data_cache_directory=data_cache_path)\n",
        "print(f\"Total size of texts: {textlib.total_size}\")"
      ],
      "execution_count": 12,
      "outputs": [
        {
          "output_type": "stream",
          "text": [
            "Reading /content/drive/My Drive/Colab Notebooks/Women-Writers/Data/Jane Austen - Pride and Prejudice.txt from cache\n",
            "Reading /content/drive/My Drive/Colab Notebooks/Women-Writers/Data/Emily Brontë - Wuthering Heights.txt from cache\n",
            "Reading /content/drive/My Drive/Colab Notebooks/Women-Writers/Data/Virginia Wolf - Voyage out.txt from cache\n",
            "Reading /content/drive/My Drive/Colab Notebooks/Women-Writers/Data/Jane Austen - Emma.txt from cache\n",
            "Total size of texts: 2536902\n"
          ],
          "name": "stdout"
        }
      ]
    },
    {
      "cell_type": "markdown",
      "metadata": {
        "colab_type": "text",
        "id": "30hi0UPtEAQG"
      },
      "source": [
        "## 2. Use tf.data for texts"
      ]
    },
    {
      "cell_type": "code",
      "metadata": {
        "colab_type": "code",
        "id": "jY3hUuhQYzdT",
        "outputId": "dc286ee6-862a-4956-c296-42951cf479a8",
        "colab": {
          "base_uri": "https://localhost:8080/",
          "height": 35
        }
      },
      "source": [
        "SEQUENCE_LEN = 60\n",
        "if use_tpu is True:\n",
        "    BATCH_SIZE=256\n",
        "    use_tpu_model_for_tpu=True\n",
        "    STATEFUL=False\n",
        "else:\n",
        "    BATCH_SIZE = 256\n",
        "    STATEFUL = True\n",
        "LSTM_UNITS = 512\n",
        "# EMBEDDING_DIM = 64 # 120\n",
        "LSTM_LAYERS = 2\n",
        "NUM_BATCHES=256  # int(textlib.total_size/BATCH_SIZE/SEQUENCE_LEN)\n",
        "print(NUM_BATCHES)"
      ],
      "execution_count": 13,
      "outputs": [
        {
          "output_type": "stream",
          "text": [
            "256\n"
          ],
          "name": "stdout"
        }
      ]
    },
    {
      "cell_type": "code",
      "metadata": {
        "colab_type": "code",
        "id": "EeB7jugCV4lI",
        "colab": {}
      },
      "source": [
        "dx=[]\n",
        "dy=[]\n",
        "for i in range(NUM_BATCHES):\n",
        "    x,y=textlib.get_random_onehot_sample_batch(BATCH_SIZE,SEQUENCE_LEN)\n",
        "    dx.append(x)\n",
        "    dy.append(y)"
      ],
      "execution_count": 0,
      "outputs": []
    },
    {
      "cell_type": "code",
      "metadata": {
        "colab_type": "code",
        "id": "3whYiFuwS8q4",
        "colab": {}
      },
      "source": [
        "data_xy=(dx,dy) # tf.keras.backend.constant(np.array([dx,dy]))\n"
      ],
      "execution_count": 0,
      "outputs": []
    },
    {
      "cell_type": "code",
      "metadata": {
        "colab_type": "code",
        "id": "DCy7WmQyS9T-",
        "colab": {}
      },
      "source": [
        "textlib_dataset=tf.data.Dataset.from_tensor_slices(data_xy)"
      ],
      "execution_count": 0,
      "outputs": []
    },
    {
      "cell_type": "code",
      "metadata": {
        "colab_type": "code",
        "id": "boow8wR7sLwi",
        "outputId": "9656e096-3c0a-458b-f54b-4f1a8c5edb21",
        "colab": {
          "base_uri": "https://localhost:8080/",
          "height": 35
        }
      },
      "source": [
        "shuffle_buffer=10000\n",
        "dataset=textlib_dataset.shuffle(shuffle_buffer)  \n",
        "dataset.take(1)"
      ],
      "execution_count": 17,
      "outputs": [
        {
          "output_type": "execute_result",
          "data": {
            "text/plain": [
              "<TakeDataset shapes: ((256, 60, 88), (256, 60)), types: (tf.float32, tf.float32)>"
            ]
          },
          "metadata": {
            "tags": []
          },
          "execution_count": 17
        }
      ]
    },
    {
      "cell_type": "code",
      "metadata": {
        "colab_type": "code",
        "id": "BLtDLPjGEAQi",
        "colab": {}
      },
      "source": [
        "def build_model(vocab_size, steps, lstm_units, lstm_layers, batch_size, stateful=True):\n",
        "    model = tf.keras.Sequential([\n",
        "        # tf.keras.layers.Embedding(vocab_size, embedding_dim,\n",
        "        #                          batch_input_shape=[batch_size, None]),\n",
        "        # tf.keras.layers.Flatten(),\n",
        "        tf.keras.layers.LSTM(lstm_units,\n",
        "                            # input_shape=(timesteps, data_dim)\n",
        "                            batch_input_shape=[batch_size, None, vocab_size],\n",
        "                            return_sequences=True,\n",
        "                            stateful=stateful,\n",
        "                            recurrent_initializer='glorot_uniform'),\n",
        "        # *[tf.keras.layers.LSTM(lstm_units,\n",
        "        #                     return_sequences=True,\n",
        "        #                     stateful=stateful,\n",
        "        #                     recurrent_initializer='glorot_uniform') for _ in range(lstm_layers-1)],\n",
        "        tf.keras.layers.Dense(vocab_size)\n",
        "        ])\n",
        "    return model\n",
        "\n",
        "def build_tpu_model(vocab_size, steps, lstm_units, lstm_layers, batch_size, stateful=True):\n",
        "    # print(\"NOT ADAPTED!\")\n",
        "    # with tf.device('/job:localhost/replica:0/task:0/device:CPU:0'):\n",
        "    #     embedded = tf.keras.layers.Embedding(vocab_size, embedding_dim, embeddings_initializer='uniform', batch_input_shape=[batch_size, None, SEQUENCE_LEN])\n",
        "    with tpu_strategy.scope():\n",
        "        lstm = [tf.keras.layers.LSTM(lstm_units,\n",
        "                        batch_input_shape=[batch_size, steps, vocab_size],\n",
        "                        return_sequences=True,\n",
        "                        stateful=stateful,\n",
        "                        recurrent_initializer='glorot_uniform', unroll=True) for _ in range(lstm_layers)]\n",
        "#     tf.keras.layers.LSTM(lstm_units,\n",
        "#                          return_sequences=True,\n",
        "#                          stateful=stateful,\n",
        "#                          # recurrent_initializer='glorot_uniform',\n",
        "#                         unroll=True)\n",
        "    dense = tf.keras.layers.Dense(vocab_size)\n",
        "    \n",
        "    model = tf.keras.Sequential([\n",
        "        # embedded,\n",
        "        *lstm,\n",
        "        dense\n",
        "        ])\n",
        "    return model"
      ],
      "execution_count": 0,
      "outputs": []
    },
    {
      "cell_type": "code",
      "metadata": {
        "colab_type": "code",
        "id": "oQIxWHMGNKHk",
        "colab": {
          "base_uri": "https://localhost:8080/",
          "height": 35
        },
        "outputId": "1bed45b6-0d7b-47e7-c4f7-190015c6a329"
      },
      "source": [
        "if use_tpu:\n",
        "    print(TPU_ADDRESS)\n",
        "    os.environ['COLAB_TPU_ADDR']"
      ],
      "execution_count": 19,
      "outputs": [
        {
          "output_type": "stream",
          "text": [
            "grpc://10.94.220.42:8470\n"
          ],
          "name": "stdout"
        }
      ]
    },
    {
      "cell_type": "code",
      "metadata": {
        "colab_type": "code",
        "id": "NMsaykJjEAQl",
        "colab": {
          "base_uri": "https://localhost:8080/",
          "height": 641
        },
        "outputId": "9fbdd756-9503-48f5-fc09-9c52b45c7fc4"
      },
      "source": [
        "if use_tpu is True and not tpu_is_init:\n",
        "    cluster_resolver = tf.distribute.cluster_resolver.TPUClusterResolver(tpu=TPU_ADDRESS)\n",
        "    tf.config.experimental_connect_to_cluster(cluster_resolver) # host(cluster_resolver.master())\n",
        "    tf.tpu.experimental.initialize_tpu_system(cluster_resolver)\n",
        "    tpu_strategy = tf.distribute.experimental.TPUStrategy(cluster_resolver)    \n",
        "    tpu_is_init=True\n"
      ],
      "execution_count": 20,
      "outputs": [
        {
          "output_type": "stream",
          "text": [
            "INFO:tensorflow:Initializing the TPU system: 10.94.220.42:8470\n"
          ],
          "name": "stdout"
        },
        {
          "output_type": "stream",
          "text": [
            "INFO:tensorflow:Initializing the TPU system: 10.94.220.42:8470\n"
          ],
          "name": "stderr"
        },
        {
          "output_type": "stream",
          "text": [
            "INFO:tensorflow:Finished initializing TPU system.\n"
          ],
          "name": "stdout"
        },
        {
          "output_type": "stream",
          "text": [
            "INFO:tensorflow:Finished initializing TPU system.\n"
          ],
          "name": "stderr"
        },
        {
          "output_type": "stream",
          "text": [
            "INFO:tensorflow:Querying Tensorflow master (grpc://10.94.220.42:8470) for TPU system metadata.\n"
          ],
          "name": "stdout"
        },
        {
          "output_type": "stream",
          "text": [
            "INFO:tensorflow:Querying Tensorflow master (grpc://10.94.220.42:8470) for TPU system metadata.\n"
          ],
          "name": "stderr"
        },
        {
          "output_type": "stream",
          "text": [
            "INFO:tensorflow:Found TPU system:\n"
          ],
          "name": "stdout"
        },
        {
          "output_type": "stream",
          "text": [
            "INFO:tensorflow:Found TPU system:\n"
          ],
          "name": "stderr"
        },
        {
          "output_type": "stream",
          "text": [
            "INFO:tensorflow:*** Num TPU Cores: 8\n"
          ],
          "name": "stdout"
        },
        {
          "output_type": "stream",
          "text": [
            "INFO:tensorflow:*** Num TPU Cores: 8\n"
          ],
          "name": "stderr"
        },
        {
          "output_type": "stream",
          "text": [
            "INFO:tensorflow:*** Num TPU Workers: 1\n"
          ],
          "name": "stdout"
        },
        {
          "output_type": "stream",
          "text": [
            "INFO:tensorflow:*** Num TPU Workers: 1\n"
          ],
          "name": "stderr"
        },
        {
          "output_type": "stream",
          "text": [
            "INFO:tensorflow:*** Num TPU Cores Per Worker: 8\n"
          ],
          "name": "stdout"
        },
        {
          "output_type": "stream",
          "text": [
            "INFO:tensorflow:*** Num TPU Cores Per Worker: 8\n"
          ],
          "name": "stderr"
        },
        {
          "output_type": "stream",
          "text": [
            "INFO:tensorflow:*** Available Device: _DeviceAttributes(/job:worker/replica:0/task:0/device:CPU:0, CPU, -1, 9994354882635382411)\n"
          ],
          "name": "stdout"
        },
        {
          "output_type": "stream",
          "text": [
            "INFO:tensorflow:*** Available Device: _DeviceAttributes(/job:worker/replica:0/task:0/device:CPU:0, CPU, -1, 9994354882635382411)\n"
          ],
          "name": "stderr"
        },
        {
          "output_type": "stream",
          "text": [
            "INFO:tensorflow:*** Available Device: _DeviceAttributes(/job:worker/replica:0/task:0/device:TPU:0, TPU, 17179869184, 18141982622184153783)\n"
          ],
          "name": "stdout"
        },
        {
          "output_type": "stream",
          "text": [
            "INFO:tensorflow:*** Available Device: _DeviceAttributes(/job:worker/replica:0/task:0/device:TPU:0, TPU, 17179869184, 18141982622184153783)\n"
          ],
          "name": "stderr"
        },
        {
          "output_type": "stream",
          "text": [
            "INFO:tensorflow:*** Available Device: _DeviceAttributes(/job:worker/replica:0/task:0/device:TPU:1, TPU, 17179869184, 8029659296646003379)\n"
          ],
          "name": "stdout"
        },
        {
          "output_type": "stream",
          "text": [
            "INFO:tensorflow:*** Available Device: _DeviceAttributes(/job:worker/replica:0/task:0/device:TPU:1, TPU, 17179869184, 8029659296646003379)\n"
          ],
          "name": "stderr"
        },
        {
          "output_type": "stream",
          "text": [
            "INFO:tensorflow:*** Available Device: _DeviceAttributes(/job:worker/replica:0/task:0/device:TPU:2, TPU, 17179869184, 7045435772308717383)\n"
          ],
          "name": "stdout"
        },
        {
          "output_type": "stream",
          "text": [
            "INFO:tensorflow:*** Available Device: _DeviceAttributes(/job:worker/replica:0/task:0/device:TPU:2, TPU, 17179869184, 7045435772308717383)\n"
          ],
          "name": "stderr"
        },
        {
          "output_type": "stream",
          "text": [
            "INFO:tensorflow:*** Available Device: _DeviceAttributes(/job:worker/replica:0/task:0/device:TPU:3, TPU, 17179869184, 13880561328085861497)\n"
          ],
          "name": "stdout"
        },
        {
          "output_type": "stream",
          "text": [
            "INFO:tensorflow:*** Available Device: _DeviceAttributes(/job:worker/replica:0/task:0/device:TPU:3, TPU, 17179869184, 13880561328085861497)\n"
          ],
          "name": "stderr"
        },
        {
          "output_type": "stream",
          "text": [
            "INFO:tensorflow:*** Available Device: _DeviceAttributes(/job:worker/replica:0/task:0/device:TPU:4, TPU, 17179869184, 11329163274595080859)\n"
          ],
          "name": "stdout"
        },
        {
          "output_type": "stream",
          "text": [
            "INFO:tensorflow:*** Available Device: _DeviceAttributes(/job:worker/replica:0/task:0/device:TPU:4, TPU, 17179869184, 11329163274595080859)\n"
          ],
          "name": "stderr"
        },
        {
          "output_type": "stream",
          "text": [
            "INFO:tensorflow:*** Available Device: _DeviceAttributes(/job:worker/replica:0/task:0/device:TPU:5, TPU, 17179869184, 4059380730734586090)\n"
          ],
          "name": "stdout"
        },
        {
          "output_type": "stream",
          "text": [
            "INFO:tensorflow:*** Available Device: _DeviceAttributes(/job:worker/replica:0/task:0/device:TPU:5, TPU, 17179869184, 4059380730734586090)\n"
          ],
          "name": "stderr"
        },
        {
          "output_type": "stream",
          "text": [
            "INFO:tensorflow:*** Available Device: _DeviceAttributes(/job:worker/replica:0/task:0/device:TPU:6, TPU, 17179869184, 17028037564267314151)\n"
          ],
          "name": "stdout"
        },
        {
          "output_type": "stream",
          "text": [
            "INFO:tensorflow:*** Available Device: _DeviceAttributes(/job:worker/replica:0/task:0/device:TPU:6, TPU, 17179869184, 17028037564267314151)\n"
          ],
          "name": "stderr"
        },
        {
          "output_type": "stream",
          "text": [
            "INFO:tensorflow:*** Available Device: _DeviceAttributes(/job:worker/replica:0/task:0/device:TPU:7, TPU, 17179869184, 1585810435010877243)\n"
          ],
          "name": "stdout"
        },
        {
          "output_type": "stream",
          "text": [
            "INFO:tensorflow:*** Available Device: _DeviceAttributes(/job:worker/replica:0/task:0/device:TPU:7, TPU, 17179869184, 1585810435010877243)\n"
          ],
          "name": "stderr"
        },
        {
          "output_type": "stream",
          "text": [
            "INFO:tensorflow:*** Available Device: _DeviceAttributes(/job:worker/replica:0/task:0/device:TPU_SYSTEM:0, TPU_SYSTEM, 8589934592, 7081745151101970637)\n"
          ],
          "name": "stdout"
        },
        {
          "output_type": "stream",
          "text": [
            "INFO:tensorflow:*** Available Device: _DeviceAttributes(/job:worker/replica:0/task:0/device:TPU_SYSTEM:0, TPU_SYSTEM, 8589934592, 7081745151101970637)\n"
          ],
          "name": "stderr"
        },
        {
          "output_type": "stream",
          "text": [
            "INFO:tensorflow:*** Available Device: _DeviceAttributes(/job:worker/replica:0/task:0/device:XLA_CPU:0, XLA_CPU, 17179869184, 228184476198022361)\n"
          ],
          "name": "stdout"
        },
        {
          "output_type": "stream",
          "text": [
            "INFO:tensorflow:*** Available Device: _DeviceAttributes(/job:worker/replica:0/task:0/device:XLA_CPU:0, XLA_CPU, 17179869184, 228184476198022361)\n"
          ],
          "name": "stderr"
        }
      ]
    },
    {
      "cell_type": "code",
      "metadata": {
        "colab_type": "code",
        "id": "nf-NHZ326NqJ",
        "outputId": "b2b6d16c-14a3-41f6-9836-e4407853475a",
        "colab": {
          "base_uri": "https://localhost:8080/",
          "height": 159
        }
      },
      "source": [
        "if use_tpu is True:\n",
        "    if use_tpu_model_for_tpu is True:\n",
        "        print(\"tpu, simple model\")\n",
        "        # with tpu_strategy.scope():\n",
        "        model = build_tpu_model(\n",
        "          vocab_size = len(textlib.i2c),\n",
        "          # embedding_dim=EMBEDDING_DIM,\n",
        "          steps=SEQUENCE_LEN,\n",
        "          lstm_units=LSTM_UNITS,\n",
        "          lstm_layers=LSTM_LAYERS,\n",
        "          batch_size=BATCH_SIZE,\n",
        "          stateful=STATEFUL)\n",
        "    else:\n",
        "        print(\"tpu, default model\")\n",
        "        with tpu_strategy.scope():\n",
        "            model = build_model(\n",
        "              vocab_size = len(textlib.i2c),\n",
        "              steps=SEQUENCE_LEN,\n",
        "              # embedding_dim=EMBEDDING_DIM,\n",
        "              lstm_units=LSTM_UNITS,\n",
        "              lstm_layers=LSTM_LAYERS,\n",
        "              batch_size=BATCH_SIZE,\n",
        "              stateful=STATEFUL)        \n",
        "else:\n",
        "    print(\"non-tpu mode\")\n",
        "    model = build_model(\n",
        "        vocab_size = len(textlib.i2c),\n",
        "        # embedding_dim=EMBEDDING_DIM,\n",
        "        steps=SEQUENCE_LEN,\n",
        "        lstm_units=LSTM_UNITS,\n",
        "        lstm_layers=LSTM_LAYERS,\n",
        "        batch_size=BATCH_SIZE,\n",
        "        stateful=STATEFUL)"
      ],
      "execution_count": 21,
      "outputs": [
        {
          "output_type": "stream",
          "text": [
            "tpu, simple model\n",
            "WARNING:tensorflow:From /usr/local/lib/python3.6/dist-packages/tensorflow_core/python/ops/resource_variable_ops.py:1635: calling BaseResourceVariable.__init__ (from tensorflow.python.ops.resource_variable_ops) with constraint is deprecated and will be removed in a future version.\n",
            "Instructions for updating:\n",
            "If using Keras pass *_constraint arguments to layers.\n"
          ],
          "name": "stdout"
        },
        {
          "output_type": "stream",
          "text": [
            "WARNING:tensorflow:From /usr/local/lib/python3.6/dist-packages/tensorflow_core/python/ops/resource_variable_ops.py:1635: calling BaseResourceVariable.__init__ (from tensorflow.python.ops.resource_variable_ops) with constraint is deprecated and will be removed in a future version.\n",
            "Instructions for updating:\n",
            "If using Keras pass *_constraint arguments to layers.\n"
          ],
          "name": "stderr"
        }
      ]
    },
    {
      "cell_type": "markdown",
      "metadata": {
        "colab_type": "text",
        "id": "GQ7inpxLveap"
      },
      "source": [
        "### Some sanity checks of the (untrained!) model"
      ]
    },
    {
      "cell_type": "code",
      "metadata": {
        "id": "-Fb_Q2TYO5XI",
        "colab_type": "code",
        "outputId": "3b56e061-49e9-4cf0-c2a7-c23a491ff944",
        "colab": {
          "base_uri": "https://localhost:8080/",
          "height": 35
        }
      },
      "source": [
        "dataset.take(1)"
      ],
      "execution_count": 22,
      "outputs": [
        {
          "output_type": "execute_result",
          "data": {
            "text/plain": [
              "<TakeDataset shapes: ((256, 60, 88), (256, 60)), types: (tf.float32, tf.float32)>"
            ]
          },
          "metadata": {
            "tags": []
          },
          "execution_count": 22
        }
      ]
    },
    {
      "cell_type": "code",
      "metadata": {
        "colab_type": "code",
        "id": "GhhF2vqmEAQo",
        "colab": {}
      },
      "source": [
        "if use_eager is True:  # no sanity for TPU, since eager not supported:\n",
        "    for input_example_batch, target_example_batch in dataset.take(1):\n",
        "        model.reset_states()\n",
        "        example_batch_predictions = model.predict(input_example_batch, batch_size=256)\n",
        "        print(example_batch_predictions.shape, \"# (batch_size, sequence_length, vocab_size)\")"
      ],
      "execution_count": 0,
      "outputs": []
    },
    {
      "cell_type": "code",
      "metadata": {
        "colab_type": "code",
        "id": "8vxZF0wOEAQr",
        "outputId": "c45a4bfe-8670-470e-af41-8ffa65a96198",
        "colab": {
          "base_uri": "https://localhost:8080/",
          "height": 260
        }
      },
      "source": [
        "model.summary()"
      ],
      "execution_count": 24,
      "outputs": [
        {
          "output_type": "stream",
          "text": [
            "Model: \"sequential\"\n",
            "_________________________________________________________________\n",
            "Layer (type)                 Output Shape              Param #   \n",
            "=================================================================\n",
            "lstm (LSTM)                  (256, 60, 512)            1230848   \n",
            "_________________________________________________________________\n",
            "lstm_1 (LSTM)                (256, 60, 512)            2099200   \n",
            "_________________________________________________________________\n",
            "dense (Dense)                (256, 60, 88)             45144     \n",
            "=================================================================\n",
            "Total params: 3,375,192\n",
            "Trainable params: 3,375,192\n",
            "Non-trainable params: 0\n",
            "_________________________________________________________________\n"
          ],
          "name": "stdout"
        }
      ]
    },
    {
      "cell_type": "code",
      "metadata": {
        "colab_type": "code",
        "id": "LYZs8Ss2947k",
        "outputId": "bad6a029-760e-4651-c5ed-915aa6cd46f7",
        "colab": {
          "base_uri": "https://localhost:8080/",
          "height": 35
        }
      },
      "source": [
        "dataset.take(1)"
      ],
      "execution_count": 25,
      "outputs": [
        {
          "output_type": "execute_result",
          "data": {
            "text/plain": [
              "<TakeDataset shapes: ((256, 60, 88), (256, 60)), types: (tf.float32, tf.float32)>"
            ]
          },
          "metadata": {
            "tags": []
          },
          "execution_count": 25
        }
      ]
    },
    {
      "cell_type": "code",
      "metadata": {
        "colab_type": "code",
        "id": "fKo54K1lEAQt",
        "colab": {}
      },
      "source": [
        "if use_eager is True:\n",
        "    sampled_indices = tf.random.categorical(example_batch_predictions[0], num_samples=1)\n",
        "    sampled_indices = tf.squeeze(sampled_indices,axis=-1).numpy()\n",
        "    print(sampled_indices)"
      ],
      "execution_count": 0,
      "outputs": []
    },
    {
      "cell_type": "code",
      "metadata": {
        "colab_type": "code",
        "id": "ic4RuDZLEAQy",
        "colab": {}
      },
      "source": [
        "if use_eager is True:\n",
        "    print(textlib.decode(sampled_indices))"
      ],
      "execution_count": 0,
      "outputs": []
    },
    {
      "cell_type": "markdown",
      "metadata": {
        "colab_type": "text",
        "id": "soB-Q8YXvndE"
      },
      "source": [
        "### Loss function, optimizer, tensorboard output"
      ]
    },
    {
      "cell_type": "code",
      "metadata": {
        "colab_type": "code",
        "id": "6i-0Y2uYEAQ0",
        "colab": {}
      },
      "source": [
        "def loss(labels, logits):\n",
        "  return tf.keras.losses.sparse_categorical_crossentropy(labels, logits, from_logits=True)\n",
        "\n",
        "if use_eager is True:\n",
        "    example_batch_loss  = loss(target_example_batch, example_batch_predictions)\n",
        "    print(\"Prediction shape: \", example_batch_predictions.shape, \" # (batch_size, sequence_length, vocab_size)\")\n",
        "    print(\"scalar_loss:      \", example_batch_loss.numpy().mean())"
      ],
      "execution_count": 0,
      "outputs": []
    },
    {
      "cell_type": "code",
      "metadata": {
        "colab_type": "code",
        "id": "py9WnmosEAQ3",
        "colab": {}
      },
      "source": [
        "opti = tf.keras.optimizers.Adam(lr=0.003, clipvalue=1.0)\n",
        "# opti = tf.keras.optimizers.Adam(clipvalue=0.5)\n",
        "# opti=tf.keras.optimizers.SGD(lr=0.003)\n",
        "\n",
        "def scalar_loss(labels, logits):\n",
        "    bl=loss(labels, logits)\n",
        "    return tf.reduce_mean(bl)\n",
        "\n",
        "model.compile(optimizer=opti, loss=loss, metrics=[scalar_loss])"
      ],
      "execution_count": 0,
      "outputs": []
    },
    {
      "cell_type": "code",
      "metadata": {
        "colab_type": "code",
        "id": "5SKvObcsEAQ5",
        "colab": {}
      },
      "source": [
        "# Directory where the checkpoints will be saved\n",
        "checkpoint_dir = './training_checkpoints'\n",
        "# Name of the checkpoint files\n",
        "checkpoint_prefix = os.path.join(checkpoint_dir, \"ckpt_{epoch}\")\n",
        "\n",
        "checkpoint_callback=tf.keras.callbacks.ModelCheckpoint(\n",
        "    filepath=checkpoint_prefix,\n",
        "    save_weights_only=True)\n",
        "\n",
        "logdir = os.path.join(\"logs\", datetime.datetime.now().strftime(\"%Y%m%d-%H%M%S\"))\n",
        "tensorboard_callback = tf.keras.callbacks.TensorBoard(logdir, update_freq='batch') # , histogram_freq=1) # update_freq='epoch', "
      ],
      "execution_count": 0,
      "outputs": []
    },
    {
      "cell_type": "code",
      "metadata": {
        "colab_type": "code",
        "id": "o0Ew6pgWzeFj",
        "outputId": "e286c007-e6a9-4780-febe-f798675551d6",
        "colab": {
          "base_uri": "https://localhost:8080/",
          "height": 838
        }
      },
      "source": [
        "# !kill -9 1082 # doesnt work either..\n",
        "%tensorboard --logdir logs"
      ],
      "execution_count": 39,
      "outputs": [
        {
          "output_type": "display_data",
          "data": {
            "text/plain": [
              "Reusing TensorBoard on port 6006 (pid 1082), started 1:01:21 ago. (Use '!kill 1082' to kill it.)"
            ]
          },
          "metadata": {
            "tags": []
          }
        },
        {
          "output_type": "display_data",
          "data": {
            "application/javascript": [
              "\n",
              "  (async () => {\n",
              "      const url = await google.colab.kernel.proxyPort(6006, {\"cache\": true});\n",
              "      const iframe = document.createElement('iframe');\n",
              "      iframe.src = url;\n",
              "      iframe.setAttribute('width', '100%');\n",
              "      iframe.setAttribute('height', '800');\n",
              "      iframe.setAttribute('frameborder', 0);\n",
              "      document.body.appendChild(iframe);\n",
              "  })();\n",
              "  "
            ],
            "text/plain": [
              "<IPython.core.display.Javascript object>"
            ]
          },
          "metadata": {
            "tags": []
          }
        }
      ]
    },
    {
      "cell_type": "markdown",
      "metadata": {
        "colab_type": "text",
        "id": "kDFbZcN0vxOB"
      },
      "source": [
        "## The actual training"
      ]
    },
    {
      "cell_type": "code",
      "metadata": {
        "colab_type": "code",
        "id": "kh2yUKBoEAQ8",
        "colab": {}
      },
      "source": [
        "EPOCHS=20"
      ],
      "execution_count": 0,
      "outputs": []
    },
    {
      "cell_type": "code",
      "metadata": {
        "colab_type": "code",
        "id": "RLbsTmtnEAQ-",
        "outputId": "87e1c830-aee6-46e6-9207-830950df4996",
        "colab": {
          "base_uri": "https://localhost:8080/",
          "height": 381
        }
      },
      "source": [
        "history = model.fit(dataset, epochs=EPOCHS, callbacks=[checkpoint_callback, tensorboard_callback])"
      ],
      "execution_count": 0,
      "outputs": [
        {
          "output_type": "stream",
          "text": [
            "Train on 256 steps\n",
            "Epoch 1/20\n",
            "256/256 [==============================] - 299s 1s/step - loss: 1.6498 - scalar_loss: 1.6498\n",
            "Epoch 2/20\n",
            "256/256 [==============================] - 292s 1s/step - loss: 1.3882 - scalar_loss: 1.3882\n",
            "Epoch 3/20\n",
            "256/256 [==============================] - 292s 1s/step - loss: 1.2806 - scalar_loss: 1.2806\n",
            "Epoch 4/20\n",
            "256/256 [==============================] - 293s 1s/step - loss: 1.2102 - scalar_loss: 1.2102\n",
            "Epoch 5/20\n",
            "256/256 [==============================] - 292s 1s/step - loss: 1.1563 - scalar_loss: 1.1563\n",
            "Epoch 6/20\n",
            "256/256 [==============================] - 290s 1s/step - loss: 1.1114 - scalar_loss: 1.1114\n",
            "Epoch 7/20\n",
            "256/256 [==============================] - 297s 1s/step - loss: 1.0718 - scalar_loss: 1.0718\n",
            "Epoch 8/20\n",
            "256/256 [==============================] - 291s 1s/step - loss: 1.0360 - scalar_loss: 1.0360\n",
            "Epoch 9/20\n",
            "256/256 [==============================] - 290s 1s/step - loss: 1.0047 - scalar_loss: 1.0047\n",
            "Epoch 10/20\n",
            " 86/256 [=========>....................] - ETA: 3:22 - loss: 0.9622 - scalar_loss: 0.9622"
          ],
          "name": "stdout"
        }
      ]
    },
    {
      "cell_type": "code",
      "metadata": {
        "colab_type": "code",
        "id": "rvupep98EARA",
        "colab": {}
      },
      "source": [
        "# Generate"
      ],
      "execution_count": 0,
      "outputs": []
    },
    {
      "cell_type": "code",
      "metadata": {
        "colab_type": "code",
        "id": "mnMrNH0eEARC",
        "outputId": "d48813aa-c69d-4cae-a809-407c08e851f5",
        "colab": {
          "base_uri": "https://localhost:8080/",
          "height": 34
        }
      },
      "source": [
        "\n",
        "checkpoint_dir = './training_checkpoints'  # duplicate\n",
        "\n",
        "tf.train.latest_checkpoint(checkpoint_dir)"
      ],
      "execution_count": 0,
      "outputs": [
        {
          "output_type": "execute_result",
          "data": {
            "text/plain": [
              "'./training_checkpoints/ckpt_20'"
            ]
          },
          "metadata": {
            "tags": []
          },
          "execution_count": 36
        }
      ]
    },
    {
      "cell_type": "code",
      "metadata": {
        "colab_type": "code",
        "id": "-pvmuA-8aTx3",
        "colab": {}
      },
      "source": [
        "use_tpu_for_generation=False"
      ],
      "execution_count": 0,
      "outputs": []
    },
    {
      "cell_type": "code",
      "metadata": {
        "colab_type": "code",
        "id": "qA7qRl5EEARE",
        "colab": {}
      },
      "source": [
        "if not use_tpu_for_generation:\n",
        "    gen_model = build_model(vocab_size = len(textlib.i2c),\n",
        "        embedding_dim=EMBEDDING_DIM,\n",
        "        steps=SEQUENCE_LEN,\n",
        "        lstm_units=LSTM_UNITS,\n",
        "        lstm_layers=LSTM_LAYERS,\n",
        "        batch_size=1)\n",
        "else:\n",
        "    gen_model = build_tpu_model(\n",
        "          vocab_size = len(textlib.i2c),\n",
        "          embedding_dim=EMBEDDING_DIM,\n",
        "          steps=SEQUENCE_LEN,\n",
        "          lstm_units=LSTM_UNITS,\n",
        "          lstm_layers=LSTM_LAYERS,\n",
        "          batch_size=1,\n",
        "          stateful=STATEFUL)  # TPUs can't handle stateful=True, and that's deadly for text generation."
      ],
      "execution_count": 0,
      "outputs": []
    },
    {
      "cell_type": "code",
      "metadata": {
        "colab_type": "code",
        "id": "yFRyOB8we2YA",
        "outputId": "379c9ac3-e5e9-48c8-aa07-c0cecfbb8f64",
        "colab": {
          "base_uri": "https://localhost:8080/",
          "height": 34
        }
      },
      "source": [
        "tf.train.latest_checkpoint(checkpoint_dir)"
      ],
      "execution_count": 0,
      "outputs": [
        {
          "output_type": "execute_result",
          "data": {
            "text/plain": [
              "'./training_checkpoints/ckpt_20'"
            ]
          },
          "metadata": {
            "tags": []
          },
          "execution_count": 39
        }
      ]
    },
    {
      "cell_type": "code",
      "metadata": {
        "colab_type": "code",
        "id": "KCunzXAQKBI6",
        "outputId": "85bf1238-87b5-4ea6-ced5-669eefaa0874",
        "colab": {
          "base_uri": "https://localhost:8080/",
          "height": 34
        }
      },
      "source": [
        "gen_model.load_weights(tf.train.latest_checkpoint(checkpoint_dir))"
      ],
      "execution_count": 0,
      "outputs": [
        {
          "output_type": "execute_result",
          "data": {
            "text/plain": [
              "<tensorflow.python.training.tracking.util.CheckpointLoadStatus at 0x7fbeca47cf60>"
            ]
          },
          "metadata": {
            "tags": []
          },
          "execution_count": 40
        }
      ]
    },
    {
      "cell_type": "code",
      "metadata": {
        "colab_type": "code",
        "id": "YJbQqPFEevop",
        "colab": {}
      },
      "source": [
        "gen_model.build(tf.TensorShape([1, None]))"
      ],
      "execution_count": 0,
      "outputs": []
    },
    {
      "cell_type": "code",
      "metadata": {
        "colab_type": "code",
        "id": "nQ6JhIGxEARF",
        "outputId": "a32fd59a-c386-4a9c-e7b8-640f9e9d064c",
        "colab": {
          "base_uri": "https://localhost:8080/",
          "height": 221
        }
      },
      "source": [
        "gen_model.summary()"
      ],
      "execution_count": 0,
      "outputs": [
        {
          "output_type": "stream",
          "text": [
            "Model: \"sequential_1\"\n",
            "_________________________________________________________________\n",
            "Layer (type)                 Output Shape              Param #   \n",
            "=================================================================\n",
            "lstm_1 (LSTM)                (1, None, 256)            353280    \n",
            "_________________________________________________________________\n",
            "dense_1 (Dense)              (1, None, 88)             22616     \n",
            "=================================================================\n",
            "Total params: 375,896\n",
            "Trainable params: 375,896\n",
            "Non-trainable params: 0\n",
            "_________________________________________________________________\n"
          ],
          "name": "stdout"
        }
      ]
    },
    {
      "cell_type": "code",
      "metadata": {
        "colab_type": "code",
        "id": "geLmNIvzEARH",
        "colab": {}
      },
      "source": [
        "def generate_text_with_tpu(model, start_string, temp=0.6):\n",
        "  # Evaluation step (generating text using the learned model)\n",
        "\n",
        "  # Number of characters to generate\n",
        "  num_generate = 128\n",
        "\n",
        "  # Converting our start string to numbers (vectorizing)\n",
        "  cutstr=start_string[-SEQUENCE_LEN:]  # Tpus need the whole history of exactly secuence_len chars, not less, not more.\n",
        "  input_eval = [textlib.c2i[s] for s in cutstr]\n",
        "  input_eval = tf.expand_dims(input_eval, 0)\n",
        "\n",
        "  # Empty string to store our results\n",
        "  text_generated = []\n",
        "  ids=[]\n",
        "\n",
        "  # Low temperatures results in more predictable text.\n",
        "  # Higher temperatures results in more surprising text.\n",
        "  # Experiment to find the best setting.\n",
        "  temperature = temp\n",
        "\n",
        "  # Here batch size == 1\n",
        "  model.reset_states()\n",
        "  for i in range(num_generate):\n",
        "      predictions = model(input_eval)\n",
        "      # remove the batch dimension\n",
        "      predictions = tf.squeeze(predictions, 0)\n",
        "\n",
        "      # using a categorical distribution to predict the word returned by the model\n",
        "      predictions = predictions / temperature\n",
        "      predicted_tensor = tf.random.categorical(predictions, num_samples=1)[-1,0]\n",
        "      if not use_tpu:\n",
        "          predicted_id=predicted_tensor.numpy()\n",
        "      else:\n",
        "          predicted_id=predicted_tensor.eval()\n",
        "      ids.append(predicted_id)\n",
        "\n",
        "      # We pass the predicted word as the next input to the model\n",
        "      # along with the previous hidden state\n",
        "      input_eval = tf.expand_dims([predicted_id], 0)\n",
        "\n",
        "      text_generated.append(textlib.i2c[predicted_id])\n",
        "      print(\"out:\"+''.join(text_generated))\n",
        "\n",
        "      cutstr=(start_string+''.join(text_generated))[-SEQUENCE_LEN:]  # Restore the entire history if last SEQUENCE_LEN chars, to be \"stateless\"\n",
        "      input_eval = [textlib.c2i[s] for s in cutstr]\n",
        "      input_eval = tf.expand_dims(input_eval, 0)\n",
        "\n",
        "  return (start_string + ''.join(text_generated), ids)\n",
        "\n",
        "def generate_text(model, start_string, temp=0.6):\n",
        "  # Evaluation step (generating text using the learned model)\n",
        "\n",
        "  # Number of characters to generate\n",
        "  num_generate = 128\n",
        "\n",
        "  # Converting our start string to numbers (vectorizing)\n",
        "  cutstr=start_string # [0:SEQUENCE_LEN] # \n",
        "  input_eval = [textlib.c2i[s] for s in cutstr]\n",
        "  input_eval_1 = tf.expand_dims(input_eval, 0)\n",
        "\n",
        "  input_eval = tf.keras.backend.one_hot(input_eval_1, len(textlib.i2c))\n",
        "\n",
        "  # Empty string to store our results\n",
        "  text_generated = []\n",
        "  ids=[]\n",
        "\n",
        "  # Low temperatures results in more predictable text.\n",
        "  # Higher temperatures results in more surprising text.\n",
        "  # Experiment to find the best setting.\n",
        "  temperature = temp\n",
        "\n",
        "  # Here batch size == 1\n",
        "  model.reset_states()\n",
        "  for i in range(num_generate):\n",
        "      predictions = model.predict(input_eval, batch_size=1)\n",
        "      # remove the batch dimension\n",
        "      predictions = tf.squeeze(predictions, 0)\n",
        "\n",
        "      # using a categorical distribution to predict the word returned by the model\n",
        "      predictions = predictions / temperature\n",
        "      predicted_tensor = tf.random.categorical(predictions, num_samples=1)[-1,0]\n",
        "      predicted_id=predicted_tensor.numpy()\n",
        "      ids.append(predicted_id)\n",
        "\n",
        "      text_generated.append(textlib.i2c[predicted_id])\n",
        "\n",
        "      input_eval = tf.keras.backend.one_hot(input_eval_1, len(textlib.i2c))\n",
        "      # We pass the predicted word as the next input to the model\n",
        "      # along with the previous hidden state\n",
        "      input_eval_1 = tf.expand_dims([predicted_id], 0)\n",
        "      input_eval = tf.keras.backend.one_hot(input_eval_1, len(textlib.i2c))    \n",
        "  return (''.join(text_generated), ids)"
      ],
      "execution_count": 0,
      "outputs": []
    },
    {
      "cell_type": "code",
      "metadata": {
        "id": "x2Fl4hJzO5YM",
        "colab_type": "code",
        "outputId": "0b6fb41a-c4d7-427a-9baf-dee07ffc9dbc",
        "colab": {
          "base_uri": "https://localhost:8080/",
          "height": 34
        }
      },
      "source": [
        "start_string=\"With the clarity of thought of an artificial life form, the discussion went on:\"\n",
        "len(start_string[0:SEQUENCE_LEN])"
      ],
      "execution_count": 0,
      "outputs": [
        {
          "output_type": "execute_result",
          "data": {
            "text/plain": [
              "60"
            ]
          },
          "metadata": {
            "tags": []
          },
          "execution_count": 44
        }
      ]
    },
    {
      "cell_type": "code",
      "metadata": {
        "colab_type": "code",
        "id": "H7750ibzEARJ",
        "outputId": "7247735f-b51c-47e6-aee9-e087af7de1d5",
        "colab": {
          "base_uri": "https://localhost:8080/",
          "height": 85
        }
      },
      "source": [
        "if use_tpu_for_generation:\n",
        "    sess=tf.compat.v1.keras.backend.get_session() # tf.compat.v1.get_default_session()\n",
        "    with sess.as_default():\n",
        "        tx,id=generate_text(gen_model, start_string=\"With the clarity of thought of an artificial life form, the discussion went on:\", temp=0.8)\n",
        "else:\n",
        "    tf.compat.v1.enable_eager_execution()\n",
        "    if not tf.executing_eagerly():\n",
        "        print(\"Eager engine stall.\")\n",
        "    # with tf.device('/job:localhost/replica:0/task:0/device:CPU:0'):  # Speed is about same gpu/cpu\n",
        "    tx,id=generate_text(gen_model, start_string=\"With the clarity of thought of an artificial life form, the discussion went on:\", temp=0.8)\n",
        "    print(tx)"
      ],
      "execution_count": 0,
      "outputs": [
        {
          "output_type": "stream",
          "text": [
            " of her fult.  And she share some how very surpless\n",
            "to dise't ald a mesticulabel and goon\n",
            "or to you was quite hel\n",
            "stead, and the\n"
          ],
          "name": "stdout"
        }
      ]
    },
    {
      "cell_type": "code",
      "metadata": {
        "colab_type": "code",
        "id": "b-mbC9l8EARL",
        "colab": {}
      },
      "source": [
        "def detectPlagiarism(tx, textlibrary, minQuoteLength=10):\n",
        "    textlibrary.source_highlight(tx, minQuoteLength)"
      ],
      "execution_count": 0,
      "outputs": []
    },
    {
      "cell_type": "code",
      "metadata": {
        "colab_type": "code",
        "id": "Tql-eLGvEARO",
        "outputId": "8f0f3188-8635-4ad5-c1ae-0929ef42533d",
        "colab": {}
      },
      "source": [
        "txt=textlib.decode(id)\n",
        "txti=txt.split('\\r\\n')\n",
        "for t in txti:\n",
        "    print(t)"
      ],
      "execution_count": 0,
      "outputs": [
        {
          "output_type": "stream",
          "text": [
            " of her he batk on a make her beand aspansion_ vigyed out to her forded here poor spald mode that clmations stirf.  But mo stlee\n"
          ],
          "name": "stdout"
        }
      ]
    },
    {
      "cell_type": "code",
      "metadata": {
        "colab_type": "code",
        "id": "ZBil008pEARS",
        "outputId": "687b78db-883f-437c-992a-e9bd5b9adcde",
        "colab": {}
      },
      "source": [
        "detectPlagiarism(tx, textlib)"
      ],
      "execution_count": 0,
      "outputs": [
        {
          "output_type": "display_data",
          "data": {
            "text/html": [
              "<span style=\"background-color:#ebdef0;\"> of her he</span><sup>[2]</sup> batk on a<span style=\"background-color:#d8daef;\"> make her </span><sup>[1]</sup>beand aspansion_ vigy<span style=\"background-color:#e2d7d5;\">ed out to her </span><sup>[4]</sup><span style=\"background-color:#e2d7d5;\">forded her</span><sup>[4]</sup>e poor spald mode that clmations stirf.  But mo stlee"
            ],
            "text/plain": [
              "<IPython.core.display.HTML object>"
            ]
          },
          "metadata": {
            "tags": []
          }
        },
        {
          "output_type": "display_data",
          "data": {
            "text/html": [
              "<small><p style=\"text-align:right;\">Sources: <span style=\"background-color:#ebdef0;\">Emily Brontë: Wuthering Heights</span><sup>[2]</sup>, <span style=\"background-color:#d8daef;\">Jane Austen: Pride and Prejudice</span><sup>[1]</sup>, <span style=\"background-color:#e2d7d5;\">Jane Austen: Emma</span><sup>[4]</sup></p></small>"
            ],
            "text/plain": [
              "<IPython.core.display.HTML object>"
            ]
          },
          "metadata": {
            "tags": []
          }
        }
      ]
    },
    {
      "cell_type": "code",
      "metadata": {
        "colab_type": "code",
        "id": "lXYmlO_IEARU",
        "colab": {}
      },
      "source": [
        ""
      ],
      "execution_count": 0,
      "outputs": []
    },
    {
      "cell_type": "markdown",
      "metadata": {
        "colab_type": "text",
        "id": "yWE_ZZMKEARV"
      },
      "source": [
        "## References:\n",
        "* <https://colab.research.google.com/github/tensorflow/docs/blob/master/site/en/r2/tutorials/text/text_generation.ipynb>\n",
        "* <https://colab.research.google.com/github/tensorflow/tpu/blob/master/tools/colab/shakespeare_with_tpu_and_keras.ipynb>"
      ]
    },
    {
      "cell_type": "markdown",
      "metadata": {
        "colab_type": "text",
        "id": "WW6LPdlhQtgF"
      },
      "source": [
        "## 6. A dialog with the trained model [not ported yet]"
      ]
    },
    {
      "cell_type": "code",
      "metadata": {
        "colab_type": "code",
        "id": "uxDNYZiEQtgF",
        "colab": {}
      },
      "source": [
        "# Do a dialog with the recursive neural net trained above:\n",
        "# def genDialogAnswer(prompt, g_state=None, endPrompt='.', maxEndPrompts=2,\n",
        "# maxAnswerSize=512, temperature=1.0):\n",
        "\n",
        "\n",
        "def doDialog():\n",
        "    # 0.1 (frozen character) - 1.3 (creative/chaotic character)\n",
        "    temperature = 0.6\n",
        "    endPrompt = '.'  # the endPrompt character is the end-mark in answers.\n",
        "    # look for number of maxEndPrompts until answer is finished.\n",
        "    maxEndPrompts = 4\n",
        "    maxAnswerSize = 2048  # Maximum length of the answer\n",
        "    minAnswerSize = 64  # Minimum length of the answer\n",
        "\n",
        "    with tf.Session() as sess:\n",
        "        print(\"Please enter some dialog.\")\n",
        "        print(\"The net will answer according to your input.\")\n",
        "        print(\"'bye' for end,\")\n",
        "        print(\"'reset' to reset the conversation context,\")\n",
        "        print(\"'temperature=<float>' [0.1(frozen)-1.0(creative)]\")\n",
        "        print(\"    to change character of the dialog.\")\n",
        "        print(\"    Current temperature={}.\".format(temperature))\n",
        "        print()\n",
        "        xso = None\n",
        "        bye = False\n",
        "        model.init.run()\n",
        "\n",
        "        tflogdir = os.path.realpath(model.logdir)\n",
        "        if not os.path.exists(tflogdir):\n",
        "            print(\"You haven't trained a model, no data found at: {}\".format(\n",
        "                trainParams[\"logdir\"]))\n",
        "            return\n",
        "\n",
        "        # Used for saving the training parameters periodically\n",
        "        saver = tf.train.Saver()\n",
        "        checkpoint_file = os.path.join(tflogdir, model.checkpoint)\n",
        "\n",
        "        lastSave = tf.train.latest_checkpoint(tflogdir, latest_filename=None)\n",
        "        if lastSave is not None:\n",
        "            pt = lastSave.rfind('-')\n",
        "            if pt != -1:\n",
        "                pt += 1\n",
        "                start_iter = int(lastSave[pt:])\n",
        "            # print(\"Restoring checkpoint at {}: {}\".format(start_iter, lastSave))\n",
        "            saver.restore(sess, lastSave)\n",
        "        else:\n",
        "            print(\"No checkpoints have been saved at:{}\".format(tflogdir))\n",
        "            return\n",
        "\n",
        "        # g_state = sess.run([model.init_state_0], feed_dict={model.batch_size: 1})\n",
        "        doini = True\n",
        "\n",
        "        bye = False\n",
        "        while not bye:\n",
        "            print(\"> \", end=\"\")\n",
        "            prompt = input()\n",
        "            if prompt == 'bye':\n",
        "                bye = True\n",
        "                print(\"Good bye!\")\n",
        "                continue\n",
        "            if prompt == 'reset':\n",
        "                doini = True\n",
        "                # g_state = sess.run([model.init_state_0], feed_dict={model.batch_size: 1})\n",
        "                print(\"(conversation context marked for reset)\")\n",
        "                continue\n",
        "            if prompt[:len(\"temperature=\")] == \"temperature=\":\n",
        "                t = float(prompt[len(\"temperature=\"):])\n",
        "                if t > 0.05 and t < 1.4:\n",
        "                    temperature = t\n",
        "                    print(\"(generator temperature now {})\".format(t))\n",
        "                    print()\n",
        "                    continue\n",
        "                print(\"Invalid temperature-value ignored! [0.1-1.0]\")\n",
        "                continue\n",
        "            xs = ' ' * model.steps\n",
        "            xso = ''\n",
        "            for rep in range(1):\n",
        "                for i in range(len(prompt)):\n",
        "                    xs = xs[1:]+prompt[i]\n",
        "                    X_new = np.transpose([[textlib.c2i[sj]] for sj in xs])\n",
        "                    if doini:\n",
        "                        doini = False\n",
        "                        g_state = sess.run(\n",
        "                            [model.init_state_0], feed_dict={model.X: X_new})\n",
        "                    g_state, y_pred = sess.run([model.final_state, model.output_softmax_temp],\n",
        "                                               feed_dict={model.X: X_new, model.init_state: g_state,\n",
        "                                                          model.temperature: temperature})\n",
        "            ans = 0\n",
        "            numEndPrompts = 0\n",
        "            while (ans < maxAnswerSize and numEndPrompts < maxEndPrompts) or ans < minAnswerSize:\n",
        "\n",
        "                X_new = np.transpose([[textlib.c2i[sj]] for sj in xs])\n",
        "                g_state, y_pred = sess.run([model.final_state, model.output_softmax_temp],\n",
        "                                           feed_dict={model.X: X_new, model.init_state: g_state,\n",
        "                                                      model.temperature: temperature})\n",
        "                inds = list(range(model.vocab_size))\n",
        "                ind = np.random.choice(inds, p=y_pred[0, -1].ravel())\n",
        "                nc = textlib.i2c[ind]\n",
        "                if nc == endPrompt:\n",
        "                    numEndPrompts += 1\n",
        "                xso += nc\n",
        "                xs = xs[1:]+nc\n",
        "                ans += 1\n",
        "            print(xso.replace(\"\\\\n\", \"\\n\"))\n",
        "            textlib.source_highlight(xso, 13)\n",
        "    return"
      ],
      "execution_count": 0,
      "outputs": []
    },
    {
      "cell_type": "code",
      "metadata": {
        "colab_type": "code",
        "id": "0JEPK2WIQtgI",
        "colab": {}
      },
      "source": [
        "# Talk to the net!\n",
        "doDialog()"
      ],
      "execution_count": 0,
      "outputs": []
    }
  ]
}